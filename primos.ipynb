{
 "cells": [
  {
   "cell_type": "code",
   "execution_count": 1,
   "metadata": {},
   "outputs": [],
   "source": [
    "import time\n",
    "import numpy as np"
   ]
  },
  {
   "cell_type": "code",
   "execution_count": 2,
   "metadata": {},
   "outputs": [],
   "source": [
    "SEED = 42\n",
    "np.random.seed(SEED)\n",
    "vector = np.random.randint(0, 5000, size=6_000_000)"
   ]
  },
  {
   "cell_type": "code",
   "execution_count": 3,
   "metadata": {},
   "outputs": [],
   "source": [
    "def is_prime(n):\n",
    "    if n < 2 or n % 2 == 0 and n != 2:\n",
    "        return False\n",
    "    for i in range(3, int(n**0.5) + 1, 2):\n",
    "        if n % i == 0:\n",
    "            return False\n",
    "    return True"
   ]
  },
  {
   "cell_type": "code",
   "execution_count": 4,
   "metadata": {},
   "outputs": [
    {
     "name": "stdout",
     "output_type": "stream",
     "text": [
      "Execution time: 9.721009731292725\n"
     ]
    }
   ],
   "source": [
    "from threading import Thread, Lock\n",
    "\n",
    "primes = []\n",
    "lock = Lock()\n",
    "def get_primes(start, end):\n",
    "    for i in range(start, end):\n",
    "        if is_prime(vector[i]):\n",
    "            with lock:\n",
    "                primes.append(vector[i])\n",
    "\n",
    "if __name__ == \"__main__\":\n",
    "    N = 8\n",
    "    size = len(vector) // N\n",
    "    threads = []\n",
    "\n",
    "    start_time = time.time()\n",
    "    for i in range(N):\n",
    "        start = i*size\n",
    "        end = start + size\n",
    "        thread = Thread(target=get_primes, args=(start, end))\n",
    "        threads.append(thread)\n",
    "        thread.start()\n",
    "    for thread in threads:\n",
    "        thread.join()\n",
    "\n",
    "    end_time = time.time()\n",
    "    print(\"Execution time:\", end_time - start_time)"
   ]
  },
  {
   "cell_type": "code",
   "execution_count": 5,
   "metadata": {},
   "outputs": [
    {
     "name": "stdout",
     "output_type": "stream",
     "text": [
      "802855\n"
     ]
    }
   ],
   "source": [
    "print(len(primes))"
   ]
  },
  {
   "cell_type": "code",
   "execution_count": 17,
   "metadata": {},
   "outputs": [
    {
     "name": "stdout",
     "output_type": "stream",
     "text": [
      "5.211313724517822\n"
     ]
    }
   ],
   "source": [
    "from concurrent.futures import ProcessPoolExecutor\n",
    "\n",
    "def get_primes_in_chunk(chunk):\n",
    "    return [n for n in chunk if is_prime(n)]\n",
    "\n",
    "if __name__ == \"__main__\":\n",
    "    N = 8\n",
    "    size = len(vector) // N\n",
    "    chunks = np.array_split(vector, N)\n",
    "\n",
    "    start_time = time.time()\n",
    "\n",
    "    with ProcessPoolExecutor(max_workers=N) as executor:\n",
    "        results = executor.map(get_primes_in_chunk, chunks)\n",
    "\n",
    "        primes = [prime for chunk in results for prime in chunk]\n",
    "\n",
    "    end_time = time.time()\n",
    "    print(end_time - start_time)"
   ]
  },
  {
   "cell_type": "code",
   "execution_count": 16,
   "metadata": {},
   "outputs": [
    {
     "name": "stdout",
     "output_type": "stream",
     "text": [
      "802855\n"
     ]
    }
   ],
   "source": [
    "print(len(primes))"
   ]
  }
 ],
 "metadata": {
  "kernelspec": {
   "display_name": ".venv",
   "language": "python",
   "name": "python3"
  },
  "language_info": {
   "codemirror_mode": {
    "name": "ipython",
    "version": 3
   },
   "file_extension": ".py",
   "mimetype": "text/x-python",
   "name": "python",
   "nbconvert_exporter": "python",
   "pygments_lexer": "ipython3",
   "version": "3.10.15"
  }
 },
 "nbformat": 4,
 "nbformat_minor": 2
}
