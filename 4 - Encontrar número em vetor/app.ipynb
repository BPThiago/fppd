{
 "cells": [
  {
   "cell_type": "code",
   "execution_count": 430,
   "metadata": {},
   "outputs": [],
   "source": [
    "import numpy as np\n",
    "import time"
   ]
  },
  {
   "cell_type": "code",
   "execution_count": 431,
   "metadata": {},
   "outputs": [],
   "source": [
    "NUM_WORKERS = 8\n",
    "arr = np.arange(5_000_000)\n",
    "size = len(arr) // NUM_WORKERS\n",
    "N = -1 # Worst case scenario - find element that is not on the list\n",
    "\n",
    "approach_time = {}"
   ]
  },
  {
   "cell_type": "code",
   "execution_count": 432,
   "metadata": {},
   "outputs": [],
   "source": [
    "def compute_final_index(results, size):\n",
    "    for i, result in enumerate(results):\n",
    "        if result is not None:\n",
    "            return result + i * size\n",
    "    return None"
   ]
  },
  {
   "cell_type": "code",
   "execution_count": 433,
   "metadata": {},
   "outputs": [
    {
     "name": "stdout",
     "output_type": "stream",
     "text": [
      "Element not found\n",
      "Time taken (thread): 0.3672 seconds\n"
     ]
    }
   ],
   "source": [
    "from threading import Thread\n",
    "\n",
    "def worker(arr, num, results, result_idx):\n",
    "    for pos in range(len(arr)):\n",
    "        if num == arr[pos]:\n",
    "            results[result_idx] = pos\n",
    "            return\n",
    "\n",
    "threads = []\n",
    "results = [None] * NUM_WORKERS\n",
    "\n",
    "start_time = time.time()\n",
    "\n",
    "for i in range(NUM_WORKERS):\n",
    "    start = i * size\n",
    "    end = start + size\n",
    "    t = Thread(target=worker, args=(arr[start:end], N, results, i))\n",
    "    threads.append(t)\n",
    "    t.start()\n",
    "\n",
    "for t in threads:\n",
    "    t.join()\n",
    "\n",
    "elem_idx = compute_final_index(results, size)\n",
    "\n",
    "end_time = time.time()\n",
    "\n",
    "print(f\"Element {N} found at index: {elem_idx}\" if elem_idx is not None else \"Element not found\")\n",
    "print(f\"Time taken (thread): {end_time - start_time:.4f} seconds\")\n",
    "approach_time['thread'] = end_time - start_time"
   ]
  },
  {
   "cell_type": "code",
   "execution_count": 434,
   "metadata": {},
   "outputs": [
    {
     "name": "stdout",
     "output_type": "stream",
     "text": [
      "Element not found\n",
      "Time taken (process): 0.0740 seconds\n"
     ]
    }
   ],
   "source": [
    "from multiprocessing import Process, Manager\n",
    "\n",
    "def worker(arr, num, results, result_idx):\n",
    "    for pos in range(len(arr)):\n",
    "        if num == arr[pos]:\n",
    "            results[result_idx] = pos\n",
    "            return\n",
    "\n",
    "processes = []\n",
    "manager = Manager()\n",
    "results = manager.list([None] * NUM_WORKERS)\n",
    "\n",
    "start_time = time.time()\n",
    "\n",
    "# Take care with the overhead of creating processes (especially if the task is small - 50.000 elements)\n",
    "for i in range(NUM_WORKERS):\n",
    "    start = i * size\n",
    "    end = start + size\n",
    "    p = Process(target=worker, args=(arr[start:end], N, results, i))\n",
    "    processes.append(p)\n",
    "    p.start()\n",
    "\n",
    "for p in processes:\n",
    "    p.join()\n",
    "\n",
    "elem_idx = compute_final_index(results, size)\n",
    "\n",
    "end_time = time.time()\n",
    "\n",
    "print(f\"Element {N} found at index: {elem_idx}\" if elem_idx is not None else \"Element not found\")\n",
    "print(f\"Time taken (process): {end_time - start_time:.4f} seconds\")\n",
    "approach_time['process'] = end_time - start_time"
   ]
  },
  {
   "cell_type": "code",
   "execution_count": 435,
   "metadata": {},
   "outputs": [
    {
     "name": "stdout",
     "output_type": "stream",
     "text": [
      "Element not found\n",
      "Time taken (thread pool): 0.3250 seconds\n"
     ]
    }
   ],
   "source": [
    "from concurrent.futures import ThreadPoolExecutor\n",
    "\n",
    "def worker(args):\n",
    "    arr, num = args\n",
    "    for pos in range(len(arr)):\n",
    "        if num == arr[pos]:\n",
    "            return pos\n",
    "    return None\n",
    "\n",
    "\n",
    "start_time = time.time()\n",
    "\n",
    "with ThreadPoolExecutor(max_workers=NUM_WORKERS) as executor:\n",
    "    results = executor.map(\n",
    "        worker,\n",
    "        [(arr[i * size:(i + 1) * size], N) for i in range(NUM_WORKERS)]\n",
    "    )\n",
    "elem_idx = compute_final_index(results, size)\n",
    "\n",
    "end_time = time.time()\n",
    "\n",
    "print(f\"Element {N} found at index: {elem_idx}\" if elem_idx is not None else \"Element not found\")\n",
    "print(f\"Time taken (thread pool): {end_time - start_time:.4f} seconds\")\n",
    "approach_time['thread_pool'] = end_time - start_time"
   ]
  },
  {
   "cell_type": "code",
   "execution_count": 436,
   "metadata": {},
   "outputs": [
    {
     "name": "stdout",
     "output_type": "stream",
     "text": [
      "Element not found\n",
      "Time taken (process pool): 0.1495 seconds\n"
     ]
    }
   ],
   "source": [
    "from concurrent.futures import ProcessPoolExecutor\n",
    "\n",
    "def worker(args):\n",
    "    arr, num = args\n",
    "    for pos in range(len(arr)):\n",
    "        if num == arr[pos]:\n",
    "            return pos\n",
    "    return None\n",
    "\n",
    "\n",
    "start_time = time.time()\n",
    "\n",
    "with ProcessPoolExecutor(max_workers=NUM_WORKERS) as executor:\n",
    "    results = executor.map(\n",
    "        worker,\n",
    "        [(arr[i * size:(i + 1) * size], N) for i in range(NUM_WORKERS)]\n",
    "    )\n",
    "elem_idx = compute_final_index(results, size)\n",
    "\n",
    "end_time = time.time()\n",
    "\n",
    "print(f\"Element {N} found at index: {elem_idx}\" if elem_idx is not None else \"Element not found\")\n",
    "print(f\"Time taken (process pool): {end_time - start_time:.4f} seconds\")\n",
    "approach_time['process_pool'] = end_time - start_time"
   ]
  },
  {
   "cell_type": "code",
   "execution_count": 437,
   "metadata": {},
   "outputs": [
    {
     "name": "stdout",
     "output_type": "stream",
     "text": [
      "Element not found\n",
      "Time taken (serial): 0.4127 seconds\n"
     ]
    }
   ],
   "source": [
    "# Serial approach for comparison\n",
    "start_time = time.time()\n",
    "\n",
    "for pos in range(len(arr)):\n",
    "    if N == arr[pos]:\n",
    "        elem_idx = pos\n",
    "\n",
    "end_time = time.time()\n",
    "\n",
    "print(f\"Element {N} found at index: {elem_idx}\" if elem_idx is not None else \"Element not found\")\n",
    "print(f\"Time taken (serial): {end_time - start_time:.4f} seconds\")\n",
    "approach_time['serial'] = end_time - start_time"
   ]
  },
  {
   "cell_type": "code",
   "execution_count": 438,
   "metadata": {},
   "outputs": [
    {
     "name": "stdout",
     "output_type": "stream",
     "text": [
      "Approach time comparison:\n",
      "thread: 0.3672 seconds\n",
      "process: 0.0740 seconds\n",
      "thread_pool: 0.3250 seconds\n",
      "process_pool: 0.1495 seconds\n",
      "serial: 0.4127 seconds\n",
      "\n",
      "Speedup:\n",
      "thread: 1.12x\n",
      "process: 5.58x\n",
      "thread_pool: 1.27x\n",
      "process_pool: 2.76x\n"
     ]
    }
   ],
   "source": [
    "print(\"Approach time comparison:\")\n",
    "for approach, time_taken in approach_time.items():\n",
    "    print(f\"{approach}: {time_taken:.4f} seconds\")\n",
    "\n",
    "print(\"\\nSpeedup:\")\n",
    "for approach, time_taken in approach_time.items():\n",
    "    if approach != 'serial':\n",
    "        speedup = approach_time['serial'] / time_taken\n",
    "        print(f\"{approach}: {speedup:.2f}x\")"
   ]
  }
 ],
 "metadata": {
  "kernelspec": {
   "display_name": "Python 3",
   "language": "python",
   "name": "python3"
  },
  "language_info": {
   "codemirror_mode": {
    "name": "ipython",
    "version": 3
   },
   "file_extension": ".py",
   "mimetype": "text/x-python",
   "name": "python",
   "nbconvert_exporter": "python",
   "pygments_lexer": "ipython3",
   "version": "3.10.15"
  }
 },
 "nbformat": 4,
 "nbformat_minor": 2
}
