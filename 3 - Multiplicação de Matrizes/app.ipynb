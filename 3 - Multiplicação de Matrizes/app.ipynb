{
 "cells": [
  {
   "cell_type": "code",
   "execution_count": 7,
   "metadata": {},
   "outputs": [],
   "source": [
    "import numpy as np\n",
    "from concurrent.futures import ThreadPoolExecutor"
   ]
  },
  {
   "cell_type": "code",
   "execution_count": 8,
   "metadata": {},
   "outputs": [],
   "source": [
    "seed = 42\n",
    "dim = 10\n",
    "low = 0\n",
    "high = dim\n",
    "\n",
    "np.random.seed(seed)\n",
    "A = np.random.randint(low, high, (dim, dim))\n",
    "B = np.random.randint(low, high, (dim, dim))\n",
    "C = np.zeros((dim, dim))"
   ]
  },
  {
   "cell_type": "code",
   "execution_count": 9,
   "metadata": {},
   "outputs": [],
   "source": [
    "def task(args):\n",
    "    a, b, c, lin = args\n",
    "\n",
    "    for col in range(len(b[0])):\n",
    "        for i in range(len(a[0])):\n",
    "            c[lin][col] += a[lin][i] * b[i][col]\n",
    "\n",
    "if __name__ == \"__main__\":\n",
    "    NUM_WORKERS = 16\n",
    "    with ThreadPoolExecutor(max_workers=NUM_WORKERS) as pool:\n",
    "        pool.map(\n",
    "            task,\n",
    "            [(A, B, C, i) for i in range(len(A))]\n",
    "        )\n",
    "    "
   ]
  },
  {
   "cell_type": "code",
   "execution_count": 10,
   "metadata": {},
   "outputs": [
    {
     "data": {
      "text/plain": [
       "True"
      ]
     },
     "execution_count": 10,
     "metadata": {},
     "output_type": "execute_result"
    }
   ],
   "source": [
    "np.array_equal(np.dot(A, B), C)"
   ]
  }
 ],
 "metadata": {
  "kernelspec": {
   "display_name": "Python 3",
   "language": "python",
   "name": "python3"
  },
  "language_info": {
   "codemirror_mode": {
    "name": "ipython",
    "version": 3
   },
   "file_extension": ".py",
   "mimetype": "text/x-python",
   "name": "python",
   "nbconvert_exporter": "python",
   "pygments_lexer": "ipython3",
   "version": "3.10.15"
  }
 },
 "nbformat": 4,
 "nbformat_minor": 2
}
