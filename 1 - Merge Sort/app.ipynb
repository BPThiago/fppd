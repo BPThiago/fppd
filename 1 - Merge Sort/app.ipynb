{
 "cells": [
  {
   "cell_type": "code",
   "execution_count": 17,
   "metadata": {},
   "outputs": [],
   "source": [
    "import numpy as np\n",
    "import time\n",
    "from multiprocessing import Process, Queue\n",
    "from concurrent.futures import ProcessPoolExecutor"
   ]
  },
  {
   "cell_type": "code",
   "execution_count": 18,
   "metadata": {},
   "outputs": [],
   "source": [
    "SEED = 42\n",
    "AMOUNT = 5_000_000\n",
    "np.random.seed(SEED)\n",
    "vector = np.random.randint(0, AMOUNT, size=AMOUNT)"
   ]
  },
  {
   "cell_type": "code",
   "execution_count": 19,
   "metadata": {},
   "outputs": [],
   "source": [
    "class ParallelMergeSort:\n",
    "    def __init__(self, max_depth=4):\n",
    "        self.max_depth = max_depth\n",
    "    \n",
    "    def sort(self, arr):\n",
    "        return self._parallel_merge_sort(arr, depth=0)\n",
    "    \n",
    "    def _parallel_merge_sort(self, arr, depth=0):\n",
    "        return self._parallel_merge_sort_pool(arr, depth)\n",
    "\n",
    "    def _parallel_merge_sort_process(self, arr, depth=0):\n",
    "        if len(arr) <= 1:\n",
    "            return arr\n",
    "        \n",
    "        if depth >= self.max_depth:\n",
    "            return merge_sort(arr)\n",
    "        \n",
    "        mid = len(arr) // 2\n",
    "\n",
    "        def worker(arr, depth, q):\n",
    "            result = self._parallel_merge_sort(arr, depth)\n",
    "            q.put(result)\n",
    "\n",
    "        left_queue = Queue()\n",
    "        right_queue = Queue()\n",
    "        left_process = Process(target=worker, args=(arr[:mid], depth + 1, left_queue))\n",
    "        right_process = Process(target=worker, args=(arr[mid:], depth + 1, right_queue))\n",
    "\n",
    "        left_process.start()\n",
    "        right_process.start()\n",
    "        left = left_queue.get()\n",
    "        right = right_queue.get()\n",
    "        left_process.join()\n",
    "        right_process.join()\n",
    "        \n",
    "        return merge(left, right)\n",
    "    \n",
    "    def _parallel_merge_sort_pool(self, arr, depth=0):\n",
    "        if len(arr) <= 1:\n",
    "            return arr\n",
    "        \n",
    "        if depth >= self.max_depth:\n",
    "            return merge_sort(arr)\n",
    "        \n",
    "        mid = len(arr) // 2\n",
    "\n",
    "        with ProcessPoolExecutor(max_workers=2) as pool:\n",
    "            left, right = pool.map(\n",
    "                self.parallel_merge_sort_task,\n",
    "                [(arr[:mid], depth + 1), (arr[mid:], depth + 1)]\n",
    "            )\n",
    "        \n",
    "        return merge(left, right)\n",
    "    \n",
    "    def parallel_merge_sort_task(self, args):\n",
    "        return self._parallel_merge_sort(*args)\n",
    "\n",
    "def merge_sort(arr):\n",
    "    if len(arr) <= 1:\n",
    "        return arr\n",
    "    mid = len(arr) // 2\n",
    "    left = merge_sort(arr[:mid])\n",
    "    right = merge_sort(arr[mid:])\n",
    "    return merge(left, right)\n",
    "\n",
    "def merge(left, right):\n",
    "    merged = []\n",
    "    i = j = 0\n",
    "    while i < len(left) and j < len(right):\n",
    "        if left[i] < right[j]:\n",
    "            merged.append(left[i])\n",
    "            i += 1\n",
    "        else:\n",
    "            merged.append(right[j])\n",
    "            j += 1\n",
    "    merged.extend(left[i:])\n",
    "    merged.extend(right[j:])\n",
    "    return merged"
   ]
  },
  {
   "cell_type": "code",
   "execution_count": 20,
   "metadata": {},
   "outputs": [
    {
     "name": "stdout",
     "output_type": "stream",
     "text": [
      "Serial: 16.993177890777588\n",
      "Process: 12.099063158035278\n",
      "Process Pool: 10.804617643356323\n",
      "True True\n"
     ]
    }
   ],
   "source": [
    "start_time = time.time()\n",
    "usual_sort = merge_sort(vector)\n",
    "end_time = time.time()\n",
    "print(\"Serial:\", end_time - start_time)\n",
    "\n",
    "merge_parallel = ParallelMergeSort(max_depth=4)\n",
    "\n",
    "start_time = time.time()\n",
    "process_vector = merge_parallel._parallel_merge_sort_process(vector)\n",
    "end_time = time.time()\n",
    "print(\"Process:\", end_time - start_time)\n",
    "\n",
    "start_time = time.time()\n",
    "process_vector_pool = merge_parallel._parallel_merge_sort_pool(vector)\n",
    "end_time = time.time()\n",
    "print(\"Process Pool:\", end_time - start_time)\n",
    "\n",
    "print(np.array_equal(process_vector, usual_sort), np.array_equal(process_vector_pool, usual_sort))"
   ]
  }
 ],
 "metadata": {
  "kernelspec": {
   "display_name": ".venv",
   "language": "python",
   "name": "python3"
  },
  "language_info": {
   "codemirror_mode": {
    "name": "ipython",
    "version": 3
   },
   "file_extension": ".py",
   "mimetype": "text/x-python",
   "name": "python",
   "nbconvert_exporter": "python",
   "pygments_lexer": "ipython3",
   "version": "3.10.15"
  }
 },
 "nbformat": 4,
 "nbformat_minor": 2
}
