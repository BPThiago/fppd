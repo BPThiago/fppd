{
 "cells": [
  {
   "cell_type": "code",
   "execution_count": 14,
   "metadata": {},
   "outputs": [],
   "source": [
    "import numpy as np\n",
    "import time\n",
    "from threading import Thread, Lock"
   ]
  },
  {
   "cell_type": "code",
   "execution_count": 15,
   "metadata": {},
   "outputs": [],
   "source": [
    "SEED = 42\n",
    "AMOUNT = 5_000_000\n",
    "np.random.seed(SEED)\n",
    "vector = np.random.randint(0, AMOUNT, size=AMOUNT)"
   ]
  },
  {
   "cell_type": "code",
   "execution_count": 16,
   "metadata": {},
   "outputs": [],
   "source": [
    "class ParallelMergeSort:\n",
    "    def __init__(self, max_depth=None):\n",
    "        self.max_depth = max_depth\n",
    "    \n",
    "    def sort(self, arr):\n",
    "        return self._parallel_merge_sort(arr, depth=0)\n",
    "    \n",
    "    def _parallel_merge_sort(self, arr, depth):\n",
    "        if len(arr) <= 1:\n",
    "            return arr\n",
    "        \n",
    "        if self.max_depth != None and depth >= self.max_depth:\n",
    "            return sorted(arr)\n",
    "        \n",
    "        mid = len(arr) // 2\n",
    "        left = arr[:mid]\n",
    "        right = arr[mid:]\n",
    "\n",
    "        left_result = None\n",
    "        right_result = None\n",
    "        def sort_left():\n",
    "            nonlocal left_result\n",
    "            left_result = self._parallel_merge_sort(left, depth + 1)\n",
    "        def sort_right():\n",
    "            nonlocal right_result\n",
    "            right_result = self._parallel_merge_sort(right, depth + 1)\n",
    "        \n",
    "        left_thread = Thread(target=sort_left)\n",
    "        right_thread = Thread(target=sort_right)\n",
    "\n",
    "        left_thread.start()\n",
    "        right_thread.start()\n",
    "        left_thread.join()\n",
    "        right_thread.join()\n",
    "\n",
    "        return merge(left_result, right_result)\n",
    "    \n",
    "\n",
    "def merge_sort(arr):\n",
    "    if len(arr) <= 1:\n",
    "        return arr\n",
    "    mid = len(arr) // 2\n",
    "    left_half = merge_sort(arr[:mid])\n",
    "    right_half = merge_sort(arr[mid:])\n",
    "    return merge(left_half, right_half)\n",
    "\n",
    "def merge(left, right):\n",
    "    merged = []\n",
    "    i = j = 0\n",
    "    while i < len(left) and j < len(right):\n",
    "        if left[i] < right[j]:\n",
    "            merged.append(left[i])\n",
    "            i += 1\n",
    "        else:\n",
    "            merged.append(right[j])\n",
    "            j += 1\n",
    "    merged.extend(left[i:])\n",
    "    merged.extend(right[j:])\n",
    "    return merged"
   ]
  },
  {
   "cell_type": "code",
   "execution_count": 17,
   "metadata": {},
   "outputs": [
    {
     "name": "stdout",
     "output_type": "stream",
     "text": [
      "19.37580132484436\n",
      "6.163708209991455\n",
      "True\n"
     ]
    }
   ],
   "source": [
    "merge_parallel = ParallelMergeSort(max_depth=4)\n",
    "\n",
    "start_time = time.time()\n",
    "usual_sort = merge_sort(vector)\n",
    "end_time = time.time()\n",
    "print(end_time - start_time)\n",
    "\n",
    "start_time = time.time()\n",
    "sorted_vector = merge_parallel.sort(vector)\n",
    "end_time = time.time()\n",
    "print(end_time - start_time)\n",
    "print(np.array_equal(sorted_vector, usual_sort))"
   ]
  }
 ],
 "metadata": {
  "kernelspec": {
   "display_name": ".venv",
   "language": "python",
   "name": "python3"
  },
  "language_info": {
   "codemirror_mode": {
    "name": "ipython",
    "version": 3
   },
   "file_extension": ".py",
   "mimetype": "text/x-python",
   "name": "python",
   "nbconvert_exporter": "python",
   "pygments_lexer": "ipython3",
   "version": "3.10.11"
  }
 },
 "nbformat": 4,
 "nbformat_minor": 2
}
